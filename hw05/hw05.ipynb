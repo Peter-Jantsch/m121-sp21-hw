{
 "cells": [
  {
   "cell_type": "code",
   "execution_count": null,
   "metadata": {},
   "outputs": [],
   "source": [
    "# Initialize OK\n",
    "from client.api.notebook import Notebook\n",
    "ok = Notebook('hw05.ok')"
   ]
  },
  {
   "cell_type": "markdown",
   "metadata": {},
   "source": [
    "# Homework 5: Applying Functions and Iteration"
   ]
  },
  {
   "cell_type": "markdown",
   "metadata": {},
   "source": [
    "**Helpful Resource:**\n",
    "- [Python Reference](https://math-121-spring-21.github.io/python-reference.html): Cheat sheet of helpful array & table methods\n",
    "\n",
    "**Reading**: \n",
    "* [Applying Functions](https://www.inferentialthinking.com/chapters/08/1/Applying_a_Function_to_a_Column.html)\n",
    "* [Conditionals](https://www.inferentialthinking.com/chapters/09/1/Conditional_Statements.html)\n",
    "* [Iteration](https://www.inferentialthinking.com/chapters/09/2/Iteration.html)"
   ]
  },
  {
   "cell_type": "markdown",
   "metadata": {},
   "source": [
    "Please complete this notebook by filling in the cells provided. Before you begin, execute the following cell to load the provided tests. Each time you start your server, you will need to execute this cell again to load the tests.\n",
    "\n",
    "For all problems that you must write explanations and sentences for, you **must** provide your answer in the designated space. **Moreover, throughout this homework and all future ones, please be sure to not re-assign variables throughout the notebook!** For example, if you use `max_temperature` in your answer to one question, do not reassign it later on. Otherwise, you will fail tests that you thought you were passing previously!\n",
    "\n",
    "\n",
    "\n",
    "### **Note: This homework has hidden tests on it. That means even though tests may say 100% passed, doesn't mean your final grade will be 100%. We will be running more tests for correctness once everyone turns in the homework.**\n"
   ]
  },
  {
   "cell_type": "code",
   "execution_count": null,
   "metadata": {},
   "outputs": [],
   "source": [
    "# Don't change this cell; just run it. \n",
    "\n",
    "import numpy as np\n",
    "from datascience import *\n",
    "\n",
    "# These lines do some fancy plotting magic.\\n\",\n",
    "import matplotlib\n",
    "%matplotlib inline\n",
    "import matplotlib.pyplot as plt\n",
    "plt.style.use('fivethirtyeight')\n",
    "import warnings\n",
    "warnings.simplefilter('ignore', FutureWarning)\n",
    "\n",
    "from client.api.notebook import Notebook\n",
    "ok = Notebook('hw05.ok')"
   ]
  },
  {
   "cell_type": "markdown",
   "metadata": {},
   "source": [
    "Before continuing the assignment, execute the submit cell below. The result will contain a link that you can use to check that your assignment has been submitted successfully. If you submit more than once before the deadline, we will only grade your final submission. If you mistakenly submit the wrong one, you can head to okpy.org and flag the correct version. There will be another submit cell at the end of the assignment when you finish!"
   ]
  },
  {
   "cell_type": "code",
   "execution_count": null,
   "metadata": {},
   "outputs": [],
   "source": [
    "_ = ok.submit()"
   ]
  },
  {
   "cell_type": "markdown",
   "metadata": {},
   "source": [
    "## 1. 2020 Chicago Bears Season\n"
   ]
  },
  {
   "cell_type": "markdown",
   "metadata": {},
   "source": [
    "Imagine we are trying to analyze how well the Chicago Bears performed in the 2020 NFL season. A football game is divided into four periods, called quarters. If a game is tied at the end of the fourth quarter, an overtime (OT) period will be played. The number of points the Bears scored in each quarter, and the number of points their opponent scored in each quarter are stored in a table called `bears_fb.csv`."
   ]
  },
  {
   "cell_type": "code",
   "execution_count": null,
   "metadata": {},
   "outputs": [],
   "source": [
    "# Just run this cell\n",
    "# Read in the bears_fb csv file\n",
    "games = Table().read_table(\"bears_fb.csv\")\n",
    "games.show()"
   ]
  },
  {
   "cell_type": "markdown",
   "metadata": {},
   "source": [
    "Let's start by finding the total points each team scored in a game.\n",
    "\n",
    "**Question 1.** Write a function called `sum_scores`.  It should take five arguments, where each argument is the team's score for that quarter plus overtime. It should return the team's total score for that game.\n",
    "\n",
    "*Tip: Don't overthink this question!*\n",
    "\n",
    "\n",
    "<!--\n",
    "BEGIN QUESTION\n",
    "name: q1_1\n",
    "manual: false\n",
    "-->"
   ]
  },
  {
   "cell_type": "code",
   "execution_count": null,
   "metadata": {},
   "outputs": [],
   "source": [
    "def sum_scores(...):\n",
    "    '''Returns the total score calculated by adding up the score of each quarter'''\n",
    "    ...\n",
    "\n",
    "sum_scores(14, 7, 3, 0, 0) #DO NOT CHANGE THIS LINE"
   ]
  },
  {
   "cell_type": "code",
   "execution_count": null,
   "metadata": {},
   "outputs": [],
   "source": [
    "ok.grade(\"q1_1\");"
   ]
  },
  {
   "cell_type": "markdown",
   "metadata": {},
   "source": [
    "**Question 2.** Create a new table `final_scores` with three columns in this *specific* order: `Opponent`, `Bears Score`, `Opponent Score`. You will have to create the `Bears Score` and `Opponent Score` columns. Use the function `sum_scores` you just defined in the previous question for this problem.\n",
    "\n",
    "*Hint:* If you want to apply a function that takes in multiple arguments, you can pass multiple column names as arguments in `tbl.apply()`. The column values will be passed into the corresponding arguments of the function. Take a look at the python reference for syntax.\n",
    "\n",
    "*Tip:* If you’re running into issues creating final_scores, check that `bears_scores` and `opponent_scores` output what you want. \n",
    "\n",
    "\n",
    "<!--\n",
    "BEGIN QUESTION\n",
    "name: q1_2\n",
    "manual: false\n",
    "-->"
   ]
  },
  {
   "cell_type": "code",
   "execution_count": null,
   "metadata": {},
   "outputs": [],
   "source": [
    "bears_scores = ...\n",
    "opponent_scores = ...\n",
    "final_scores = ...\n",
    "final_scores"
   ]
  },
  {
   "cell_type": "code",
   "execution_count": null,
   "metadata": {},
   "outputs": [],
   "source": [
    "ok.grade(\"q1_2\");"
   ]
  },
  {
   "cell_type": "markdown",
   "metadata": {},
   "source": [
    "We can get specific row objects from a table. You can use `tbl.row(n)` to get the `n`th row of a table. `row.item(\"column_name\")` will allow you to select the element that corresponds to `column_name` in a particular row. Here's an example:"
   ]
  },
  {
   "cell_type": "code",
   "execution_count": null,
   "metadata": {},
   "outputs": [],
   "source": [
    "# Just run this cell\n",
    "games.row(10)"
   ]
  },
  {
   "cell_type": "code",
   "execution_count": null,
   "metadata": {},
   "outputs": [],
   "source": [
    "# Just run this cell\n",
    "games.row(10).item(\"Chi 4Q\")"
   ]
  },
  {
   "cell_type": "markdown",
   "metadata": {},
   "source": [
    "**Question 3.** We want to see for a particular game whether or not the Bears lost. Write a function called `did_chi_lose`.  It should take one argument: a row object from the `final_scores` table. It should return either `True` if the Bear's score was less than the Opponent's score, and `False` otherwise.\n",
    "\n",
    "\n",
    "<!--\n",
    "BEGIN QUESTION\n",
    "name: q1_3\n",
    "manual: false\n",
    "-->"
   ]
  },
  {
   "cell_type": "code",
   "execution_count": null,
   "metadata": {},
   "outputs": [],
   "source": [
    "def did_chi_lose(row):\n",
    "    ..."
   ]
  },
  {
   "cell_type": "code",
   "execution_count": null,
   "metadata": {},
   "outputs": [],
   "source": [
    "ok.grade(\"q1_3\");"
   ]
  },
  {
   "cell_type": "markdown",
   "metadata": {},
   "source": [
    "**Question 4.** We want to see how the Bears did against every opponent during the 2020 season. Using the `final_scores` table:\n",
    "1. Assign `results` to an array of `True` and `False` values that correspond to whether or not the Bears lost\n",
    "2. Add the `results` array to the `final_scores` table, and assign this to `final_scores_with_results`\n",
    "3. Then, respectively assign the number of wins and losses the Bears had to `chi_wins` and `chi_losses`.\n",
    "\n",
    "Note: True and False are not strings ' '.\n",
    "\n",
    "*Hint 1*: `tbl.num_rows` might be helpful too.\n",
    "\n",
    "\n",
    "*Hint 2*: When you only pass a function name and no column labels through `tbl.apply()`, the function gets applied to every row in `tbl`\n",
    "\n",
    "\n",
    "<!--\n",
    "BEGIN QUESTION\n",
    "name: q1_4\n",
    "manual: false\n",
    "-->"
   ]
  },
  {
   "cell_type": "code",
   "execution_count": null,
   "metadata": {},
   "outputs": [],
   "source": [
    "results = ...\n",
    "final_scores_with_results = ...\n",
    "chi_losses = ...\n",
    "chi_wins = ...\n",
    "\n",
    "# Don't delete or edit the following line:\n",
    "print(f\"In the 2020 Season, the Chicago Bears won {chi_wins} games and lost {chi_losses} games. Go Bears!\")"
   ]
  },
  {
   "cell_type": "code",
   "execution_count": null,
   "metadata": {},
   "outputs": [],
   "source": [
    "ok.grade(\"q1_4\");"
   ]
  },
  {
   "cell_type": "markdown",
   "metadata": {},
   "source": [
    "**Question 5:** Now for a tricky exercise: fill out the following code section so that after the for loop is run, `some_string` is assigned to a string that contains letters from the `random_characters` array that occur at indices that are **multiples of 6 or multiples of 8**.\n",
    "\n",
    "*Tip: 0 is not a multiple of 6 or 8.*\n",
    "\n",
    "*Hint: The string should make sense!*\n",
    "<!--\n",
    "BEGIN QUESTION\n",
    "name: q1_5\n",
    "manual: false\n",
    "-->"
   ]
  },
  {
   "cell_type": "code",
   "execution_count": null,
   "metadata": {},
   "outputs": [],
   "source": [
    "def is_multiple_6_or_8(index):\n",
    "    '''Return a boolean to properly choose items that meet our criteria.'''\n",
    "    if index == 0:\n",
    "        ...\n",
    "    elif index % 8 == 0:\n",
    "        ...\n",
    "    elif index % 6 == 0:\n",
    "        ...\n",
    "    else:\n",
    "        ...\n",
    "\n",
    "random_characters = make_array('m', 'a', 't', 'h', 'i', 's', 'i', 'o', ' ', 'd', 'v', 'v', '<', 'k', 'v', '?', '3', \n",
    "                'm', ' ', '6', 'n', 'r', 'r', 'g', 'd', '&', 'o', '?', 'n', 'r', 'a', 't', 't', 'y', '3', 'd', 'a')\n",
    "some_string = \"\"\n",
    "for i in np.arange(len(random_characters)): # This will help us iterate through random_characters\n",
    "    character = ...\n",
    "    if ...: # You should use the function you just wrote!\n",
    "        some_string = some_string + character # Do not change this line - Adds character to the end of some_string\n",
    "some_string"
   ]
  },
  {
   "cell_type": "code",
   "execution_count": null,
   "metadata": {},
   "outputs": [],
   "source": [
    "ok.grade(\"q1_5\");"
   ]
  },
  {
   "cell_type": "markdown",
   "metadata": {},
   "source": [
    "You've reached the end of the required questions for this assignment! Please submit your work by saving your notebook and running the submit cell below. \n",
    "\n",
    "Continue on to the optional section for some more practice with iterations and for loops!\n",
    "\n",
    "Note: if you run this cell, you do not have to run the very last ok.submit() cell. "
   ]
  },
  {
   "cell_type": "code",
   "execution_count": null,
   "metadata": {},
   "outputs": [],
   "source": [
    "_ = ok.submit()"
   ]
  },
  {
   "cell_type": "markdown",
   "metadata": {},
   "source": [
    "## (Optional) Unrolling Loops"
   ]
  },
  {
   "cell_type": "markdown",
   "metadata": {},
   "source": [
    "**The rest of this homework is optional. Do it for your own practice, but it will not be incorporated into the final grading!**\n",
    "\n",
    "\"Unrolling\" a `for` loop means to manually write out all the code that it executes.  The result is code that does the same thing as the loop, but without the structure of the loop.  For example, for the following loop:\n",
    "\n",
    "    for num in np.arange(3):\n",
    "        print(\"The number is\", num)\n",
    "\n",
    "The unrolled version would look like this:\n",
    "\n",
    "    print(\"The number is\", 0)\n",
    "    print(\"The number is\", 1)\n",
    "    print(\"The number is\", 2)\n",
    "\n",
    "\n",
    "Unrolling a `for` loop is a great way to understand what the loop is doing during each step. In this exercise, you'll practice unrolling `for` loops.\n",
    "\n",
    "\n",
    "In each question below, write code that does the same thing as the given code, but with any `for` loops unrolled.  It's a good idea to run both your answer and the original code to verify that they do the same thing.  (Of course, if the code does something random, you'll get a different random outcome than the original code!)\n",
    "\n",
    "First, run the cell below to load data that will be used in a few questions.  It's a table with 52 rows, one for each type of card in a deck of playing cards.  A playing card has a \"suit\" (\"♠︎\", \"♣︎\", \"♥︎\", or \"♦︎\") and a \"rank\" (2 through 10, J, Q, K, or A).  There are 4 suits and 13 ranks, so there are $4 \\times 13 = 52$ different cards."
   ]
  },
  {
   "cell_type": "code",
   "execution_count": null,
   "metadata": {},
   "outputs": [],
   "source": [
    "deck = Table.read_table(\"deck.csv\")\n",
    "deck"
   ]
  },
  {
   "cell_type": "markdown",
   "metadata": {},
   "source": [
    "**Optional Question 1.** Unroll the code below.\n",
    "\n",
    "*Hint:* `np.random.randint` returns a random integer uniformly between 0 (inclusive) and the value that's passed in (exclusive).\n",
    "\n",
    "<!--\n",
    "BEGIN QUESTION\n",
    "name: q2_1\n",
    "manual: false\n",
    "-->"
   ]
  },
  {
   "cell_type": "code",
   "execution_count": null,
   "metadata": {},
   "outputs": [],
   "source": [
    "# This table will hold the cards in a randomly-drawn hand of\n",
    "# 5 cards.  We simulate cards being drawn as follows: We draw\n",
    "# a card at random from the deck, make a copy of it, put the\n",
    "# copy in our hand, and put the card back in the deck.  That\n",
    "# means we might draw the same card multiple times, which is\n",
    "# different from a normal draw in most card games.\n",
    "hand = Table().with_columns(\"Rank\", make_array(), \"Suit\", make_array())\n",
    "for suit in np.arange(5):\n",
    "    card = deck.row(np.random.randint(deck.num_rows))\n",
    "    hand = hand.with_row(card)\n",
    "hand"
   ]
  },
  {
   "cell_type": "code",
   "execution_count": null,
   "metadata": {
    "for_assignment_type": "solution"
   },
   "outputs": [],
   "source": [
    "hand = Table().with_columns(\"Rank\", make_array(), \"Suit\", make_array())\n",
    "..."
   ]
  },
  {
   "cell_type": "markdown",
   "metadata": {},
   "source": [
    "**Optional Question 2.** Unroll the code below.\n",
    "<!--\n",
    "BEGIN QUESTION\n",
    "name: q2_2\n",
    "manual: false\n",
    "-->"
   ]
  },
  {
   "cell_type": "code",
   "execution_count": null,
   "metadata": {},
   "outputs": [],
   "source": [
    "for joke_iteration in np.arange(4):\n",
    "    print(\"Knock, knock.\")\n",
    "    print(\"Who's there?\")\n",
    "    print(\"Banana.\")\n",
    "    print(\"Banana who?\")\n",
    "print(\"Knock, knock.\")\n",
    "print(\"Who's there?\")\n",
    "print(\"Orange.\")\n",
    "print(\"Orange who?\")\n",
    "print(\"Orange you glad I didn't say banana?\")"
   ]
  },
  {
   "cell_type": "code",
   "execution_count": null,
   "metadata": {
    "for_assignment_type": "solution"
   },
   "outputs": [],
   "source": [
    "..."
   ]
  },
  {
   "cell_type": "markdown",
   "metadata": {},
   "source": [
    "**Optional Question 3.** Unroll the code below.\n",
    "<!--\n",
    "BEGIN QUESTION\n",
    "name: q2_3\n",
    "manual: false\n",
    "-->"
   ]
  },
  {
   "cell_type": "code",
   "execution_count": null,
   "metadata": {},
   "outputs": [],
   "source": [
    "# This table will hold the cards in a randomly-drawn hand of\n",
    "# 4 cards.  The cards are drawn as follows: For each of the\n",
    "# 4 suits, we draw a random card of that suit and put it into\n",
    "# our hand.  The cards within a suit are drawn uniformly at\n",
    "# random, meaning each card of the suit has an equal chance of\n",
    "# being drawn.\n",
    "hand_of_4 = Table().with_columns(\"Rank\", make_array(), \"Suit\", make_array())\n",
    "for suit in make_array(\"♠︎\", \"♣︎\", \"♥︎\", \"♦︎\"):\n",
    "    cards_of_suit = deck.where(\"Suit\", are.equal_to(suit))\n",
    "    card = cards_of_suit.row(np.random.randint(cards_of_suit.num_rows))\n",
    "    hand_of_4 = hand_of_4.with_row(card)\n",
    "hand_of_4"
   ]
  },
  {
   "cell_type": "code",
   "execution_count": null,
   "metadata": {
    "for_assignment_type": "solution"
   },
   "outputs": [],
   "source": [
    "hand_of_4 = Table().with_columns(\"Rank\", make_array(), \"Suit\", make_array())\n",
    "..."
   ]
  },
  {
   "cell_type": "markdown",
   "metadata": {},
   "source": [
    "## 3. Submission\n"
   ]
  },
  {
   "cell_type": "markdown",
   "metadata": {
    "collapsed": true
   },
   "source": [
    "Once you're finished, make sure your work is saved then execute the `submit` cell below. The result will contain a link that you can use to check that your assignment has been submitted successfully. If you submit more than once before the deadline, we will only grade your final submission. If you mistakenly submit the wrong one, you can head to [okpy.org](https://okpy.org/) and flag the correct version. To do so, go to the website, click on this assignment, and find the version you would like to have graded. There should be an option to flag that submission for grading!"
   ]
  },
  {
   "cell_type": "code",
   "execution_count": null,
   "metadata": {},
   "outputs": [],
   "source": [
    "_ = ok.submit()"
   ]
  },
  {
   "cell_type": "code",
   "execution_count": null,
   "metadata": {},
   "outputs": [],
   "source": [
    "# For your convenience, you can run this cell to run all the tests at once!\n",
    "import os\n",
    "print(\"Running all tests...\")\n",
    "_ = [ok.grade(q[:-3]) for q in os.listdir(\"tests\") if q.startswith('q') and len(q) <= 10]\n",
    "print(\"Finished running all tests.\")"
   ]
  },
  {
   "cell_type": "code",
   "execution_count": null,
   "metadata": {},
   "outputs": [],
   "source": []
  }
 ],
 "metadata": {
  "kernelspec": {
   "display_name": "Python 3",
   "language": "python",
   "name": "python3"
  },
  "language_info": {
   "codemirror_mode": {
    "name": "ipython",
    "version": 3
   },
   "file_extension": ".py",
   "mimetype": "text/x-python",
   "name": "python",
   "nbconvert_exporter": "python",
   "pygments_lexer": "ipython3",
   "version": "3.8.5"
  }
 },
 "nbformat": 4,
 "nbformat_minor": 1
}
